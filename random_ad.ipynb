{
 "cells": [
  {
   "cell_type": "code",
   "execution_count": 3,
   "metadata": {},
   "outputs": [],
   "source": [
    "import numpy as np\n",
    "import pandas as pd\n",
    "\n",
    "year = np.random.choice(range(2008, 2024))\n",
    "\n",
    "data  = pd.read_csv(f'similars\\data{year}.csv', index_col=0)\n",
    "\n",
    "b1 = np.random.choice(data['bucket1'].index)\n",
    "b2 = np.random.choice(data['bucket2'].index)\n",
    "b3 = np.random.choice(data['bucket3'].index)\n",
    "b4 = np.random.choice(data['bucket4'].index)"
   ]
  },
  {
   "cell_type": "code",
   "execution_count": 4,
   "metadata": {},
   "outputs": [
    {
     "name": "stdout",
     "output_type": "stream",
     "text": [
      "INGENIERO AGRÓNOMO PARA DESARROLLO DE PRODUCTOS Temuco – Puerto Varas\n",
      "Una persona inquieta por aprender, autónoma, convincente y de terreno para apoyar, entrenar y orientar a la fuerza de ventas en la oferta especializada y oportuna de productos de especialidad a los clientes.\n",
      "\n",
      "Responsabilidades principales:\n",
      "-Generar los argumentos técnicos y comerciales para los productos de representación exclusiva y exponerlos tanto a la fuerza de venta como a la cartera de clientes asociada a la respectiva zona.\n",
      "-Validar los resultados de uso de  los productos de especialidad en cultivos objetivo, mediante el uso de herramientas estadísticas en las diversas zonas agro climáticas.\n",
      "-Capacitar cronológicamente a la fuerza de venta de las respectivas zonas en todos los productos de la línea de especialidades.\n",
      "-Apoyar la labor comercial en terreno de la fuerza de venta, organizando y ejecutando labores promocionales para las diferentes líneas de producto, como charlas , días de campo, demostraciones. \n",
      "-Apoyar a la Gerencia técnica en la implementación y ejecución de material promocional y divulgativo pertinente.\n",
      "\n",
      "\n",
      "Requisitos:\n",
      "Ineludible: Vivir en la Región \n",
      "Ser capaz de influenciar a otros.\n",
      "Ingeniero Agrónomo\n",
      "Experiencia de mínimo 3 años en empresas con Desarrollo de productos (agroquímicas, fertilizantes o similares).\n",
      "Usuario técnico del PC, conocimiento de SAP.\n",
      "Ser de “terreno”.\n",
      "Amplio conocimiento de fisiología y nutrición vegetal. \n",
      "Instinto comercial, Facilitador (en el entrenamiento presencial), proactividad, trabajo en equipo, autonomía, cercanía al cliente interno.\n",
      "\n",
      "Se ofrece:\n",
      "Trabajar en una empresa dentro de un grupo relevante en el país.\n",
      "Contrato a plazo fijo por 3 meses y renovable a indefinido.\n",
      "Sueldo de mercado; fijo más comisiones por ventas.\n",
      "Beneficios; seguro de vida, seguro de salud, beca escolar, aguinaldos y otros beneficios. Sistema de evaluación de desempeño y desarrollo de carrera.\n",
      "\n"
     ]
    }
   ],
   "source": [
    "print(data['avisocuerpo'][b1])"
   ]
  },
  {
   "cell_type": "code",
   "execution_count": 5,
   "metadata": {},
   "outputs": [
    {
     "name": "stdout",
     "output_type": "stream",
     "text": [
      "Fundación Chile Unido invita a Licenciados y/o titulados de Psicología a participar como Voluntarios del Programa de atención psicológica Comunícate. Este proyecto proporciona ayuda telefónica con el objetivo de proveer orientación, psicoeducación, intervención en crisis y apoyo gratuito a personas que por circunstancias adversas, falta de información, bajos recursos o inaccesibilidad, no han podido recibir atención terapéutica presencial. El fin es fortalecer sus recursos y favorecer un desarrollo más sano en los consultantes, tanto a nivel individual como a nivel familiar.  Hemos atendido a cerca de 8.000 casos por Psicólogos con Supervisión Clínica Acreditada, de los cuales un 57% ha resuelto su problema, sin la necesidad de ser derivados a algún consultorio.\n",
      "\n",
      "Otro objetivo del programa es nuestra Escuela de Voluntarios, ya que la misión de Chile Unido es transformar esta pasantía en una instancia de aprendizaje donde los jóvenes profesionales aumenten su experiencia clínica mediante la supervisión constante con terapeutas acreditados. En este contexto, Comunícate permite al voluntario desarrollar habilidades de escucha, cooperar mutuamente con una red de psicólogos y así perfeccionar sus propias habilidades. \n",
      "\n",
      "El compromiso consiste en 1 trimestre de trabajo profesional, que incluye una mañana semanal (Lunes, Martes, Miércoles o Viernes) de 9:00 a 14:30 horas, o también los jueves de 10:30 a 17 horas. Dentro de este turno se incluye 1 hora y media de supervisón clínica grupal. La atención se realiza en nuestra fundación, donde se les proporcionan los medios para realizar la orientación psicológica. Existe la posibilidad de realizar una atención mixta, la que incluiría una atención presencial además de la telefónica, para lo cual se le proporciona al pasante un lugar físico donde realizar la consulta en horario extra del turno escogido. \n",
      "\n"
     ]
    }
   ],
   "source": [
    "print(data['avisocuerpo'][b2])"
   ]
  },
  {
   "cell_type": "code",
   "execution_count": 6,
   "metadata": {},
   "outputs": [
    {
     "name": "stdout",
     "output_type": "stream",
     "text": [
      "¿Te gustaria ser repartidor?, ¿No cuentas con licencia clase C y tampoco posees el dinero para para pagar el curso?\n",
      "Telepizza te invita a participar de nuestro curso GRATUITO de repartidores en entrenamiento. \n",
      "Serás parte del curso gratuito para ser repartidor, el cual se realiza en nuestra escuela de motos ubicada en el Parque Brasil, y luego escoges la tienda que más te acomode para ser parte del mejor Staff de Repartidores.\n",
      "\n",
      "Para participar sólo necesitas:\n",
      "- Ser mayor de 18 años\n",
      "- Contar con el dinero para costear tu licencia ya que es un documento personal.\n",
      "- Tener disponibilidad para asistir al 100% de las clases. \n",
      "- Tener buena disponibilidad para trabajar.\n",
      "\n",
      "Una vez que obtengas tu licencia clase C podrás ser repartidor en la tienda de la Región Metropolitana que tu eligas! segun tu disponibilidad de horario!\n",
      "\n",
      "Sólo debes postular y serás parte de nuestro curso GRATUITO de Repartidores en Entrenamientos. \n",
      "\n",
      "¡Contesta las preguntas indicadas y nos pondremos en contacto contigo!\n",
      "\n",
      "Beneficios:\n",
      "Grato ambiente Laboral\n",
      "*Uniforme\n",
      "*Afiliación a caja de compensación Los Andes\n",
      "*Pago por hora trabajada\n",
      "*Flexibilidad de horarios\n",
      "*Beneficios con distintas empresas\n",
      "*Posibilidad de crecimiento laboral\n",
      "*Pago por cada reparto \n",
      "*Motos y bencina las proporciona Telepizza\n",
      "\n",
      "¡NO TE PIERDAS ESTA OPORTUNIDAD!\n",
      "TE ESPERAMOS!!\n"
     ]
    }
   ],
   "source": [
    "print(data['avisocuerpo'][b3])"
   ]
  },
  {
   "cell_type": "code",
   "execution_count": 7,
   "metadata": {},
   "outputs": [
    {
     "name": "stdout",
     "output_type": "stream",
     "text": [
      "- Efectuar la recolección, preservación y transporte de muestras de aguas y lodos realizando determinación de parámetros físico químicos en terreno.<br />  Las funciones principales del cargo consisten en:<br />  <br />  1. Prestar servicios de recolección de muestras y medición de parámetros Fco-Qcos en terreno.<br />  2. Cumplir con los estándares de calidad según la normativa vigente asociados a los procedimientos y técnicas aplicadas en el trabajo desarrollado.<br />  3. Entregar la información asociada a los trabajos desarrollados según el servicio solicitado y de acuerdo a los procedimientos establecidos en los plazos estipulados.<br />  4. Realizar un uso y mantención adecuado del material y equipamiento proporcionado para el desarrollo de su trabajo.\n"
     ]
    }
   ],
   "source": [
    "print(data['avisocuerpo'][b4])"
   ]
  }
 ],
 "metadata": {
  "kernelspec": {
   "display_name": "Python 3",
   "language": "python",
   "name": "python3"
  },
  "language_info": {
   "codemirror_mode": {
    "name": "ipython",
    "version": 3
   },
   "file_extension": ".py",
   "mimetype": "text/x-python",
   "name": "python",
   "nbconvert_exporter": "python",
   "pygments_lexer": "ipython3",
   "version": "3.11.3"
  }
 },
 "nbformat": 4,
 "nbformat_minor": 2
}
